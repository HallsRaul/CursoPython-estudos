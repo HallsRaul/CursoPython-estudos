{
 "cells": [
  {
   "cell_type": "code",
   "execution_count": 13,
   "id": "01c32041-5873-4ad2-a98d-251c207765e9",
   "metadata": {},
   "outputs": [
    {
     "ename": "SyntaxError",
     "evalue": "invalid syntax (1735856668.py, line 2)",
     "output_type": "error",
     "traceback": [
      "\u001b[1;36m  Cell \u001b[1;32mIn[13], line 2\u001b[1;36m\u001b[0m\n\u001b[1;33m    int num = 1\u001b[0m\n\u001b[1;37m        ^\u001b[0m\n\u001b[1;31mSyntaxError\u001b[0m\u001b[1;31m:\u001b[0m invalid syntax\n"
     ]
    }
   ],
   "source": [
    "print('primeiro programa') \n",
    "num = 1 \n",
    "temp = int(input('Digite um número: ')) \n",
    "\n",
    "calculo = num + temp \n",
    "\n",
    "print(f'resultado: {calculo})"
   ]
  },
  {
   "cell_type": "code",
   "execution_count": null,
   "id": "de4c1945-49ee-46de-80c4-09b38837da5c",
   "metadata": {},
   "outputs": [],
   "source": []
  }
 ],
 "metadata": {
  "kernelspec": {
   "display_name": "Python [conda env:base] *",
   "language": "python",
   "name": "conda-base-py"
  },
  "language_info": {
   "codemirror_mode": {
    "name": "ipython",
    "version": 3
   },
   "file_extension": ".py",
   "mimetype": "text/x-python",
   "name": "python",
   "nbconvert_exporter": "python",
   "pygments_lexer": "ipython3",
   "version": "3.12.7"
  }
 },
 "nbformat": 4,
 "nbformat_minor": 5
}
