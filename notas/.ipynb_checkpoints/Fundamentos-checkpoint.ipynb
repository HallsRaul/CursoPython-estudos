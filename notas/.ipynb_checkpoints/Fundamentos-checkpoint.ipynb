{
 "cells": [
  {
   "cell_type": "markdown",
   "id": "4795926b-acdd-4399-aaf8-edcc6016fb1a",
   "metadata": {
    "jp-MarkdownHeadingCollapsed": true
   },
   "source": [
    "# Primeiros Passos\n"
   ]
  },
  {
   "cell_type": "code",
   "execution_count": 17,
   "id": "01c32041-5873-4ad2-a98d-251c207765e9",
   "metadata": {},
   "outputs": [
    {
     "name": "stdout",
     "output_type": "stream",
     "text": [
      "Primeiro programa :)\n"
     ]
    },
    {
     "name": "stdin",
     "output_type": "stream",
     "text": [
      "Digite um número:  2222\n"
     ]
    },
    {
     "name": "stdout",
     "output_type": "stream",
     "text": [
      "resultado: 2223\n"
     ]
    }
   ],
   "source": [
    "print('Primeiro programa :)') \n",
    "num = 1 \n",
    "temp = int(input('Digite um número: ')) \n",
    "\n",
    "calculo = num + temp \n",
    "\n",
    "print(f'resultado: {calculo}') "
   ]
  },
  {
   "cell_type": "markdown",
   "id": "fc263c51-d796-4a24-8a5a-30184dca43b3",
   "metadata": {
    "jp-MarkdownHeadingCollapsed": true
   },
   "source": [
    "# Tipos Básicos"
   ]
  },
  {
   "cell_type": "code",
   "execution_count": 35,
   "id": "b242a3eb-da4c-4631-9995-1b09a3d6dc28",
   "metadata": {},
   "outputs": [
    {
     "name": "stdout",
     "output_type": "stream",
     "text": [
      "True\n",
      "False\n",
      "2.2\n",
      "Aqui eu falo qualquer coisa!\n",
      "Assim também dá\n",
      "Você é muito muito muito legal!\n",
      "[1, 2, 3]\n",
      "{'nome': 'Pedro', 'idade': 22}\n",
      "None\n"
     ]
    }
   ],
   "source": [
    "print(True) # Sempre com a inicial maiúscula\n",
    "print(False)\n",
    "print(1.2 + 1) # 1.2 = valor real(float) / 1 = valor inteiro(int)\n",
    "print('Aqui eu falo qualquer coisa!') # String\n",
    "print(\"Assim também dá\")\n",
    "print('Você é ' + 3 * 'muito ' + 'legal!') # Concatenação entre strings\n",
    "# print(3 + '3') -> Aqui se da o erro por conta da diferença entre os tipos de valores, sendo um deles um int e o outro uma string\n",
    "print([1, 2, 3]) # Basicamente um array/lista\n",
    "print({'nome': 'Pedro', 'idade': 22}) # Enquanto na lista você tem uma estrutura indexada, com índice, no dicionário você tem uma chave e um valor\n",
    "print(None) #null/nada"
   ]
  },
  {
   "cell_type": "markdown",
   "id": "bba94f77-cbe0-48c5-8665-bcbfb995c27f",
   "metadata": {
    "jp-MarkdownHeadingCollapsed": true
   },
   "source": [
    "# Variáveis"
   ]
  },
  {
   "cell_type": "code",
   "execution_count": 60,
   "id": "a347087d-3ebc-42c2-bd2a-123cc8e8f148",
   "metadata": {},
   "outputs": [
    {
     "name": "stdin",
     "output_type": "stream",
     "text": [
      "Digite um número:  22\n"
     ]
    },
    {
     "name": "stdout",
     "output_type": "stream",
     "text": [
      "22.0\n"
     ]
    },
    {
     "name": "stdin",
     "output_type": "stream",
     "text": [
      "Digite mais um número:  55.56\n"
     ]
    },
    {
     "name": "stdout",
     "output_type": "stream",
     "text": [
      "55.56\n",
      "Resultado: 77.56\n"
     ]
    }
   ],
   "source": [
    "# Linguagem tipada significa que cada variável tem um tipo de dado (como inteiro, string, etc.),\n",
    "# e esse tipo pode ser definido explicitamente ou implicitamente, dependendo da linguagem. Neste caso Python é \n",
    "# extremamente tipada. De tipagem dinâmica, ou seja, não permite misturar tipos diferentes sem conversão explícita.\n",
    "# Dito isso, as vezes, ao definir certas variáveis, você pode sofrer conflitos na linguagem em relação a operações,\n",
    "# por exemplo ao misturar uma variavel int com uma float. Neste caso seria necessário verificar as variaveis e fazer\n",
    "# modificações para melhor funcionabilidade com o restante do projeto.\n",
    "# Aliás, quando se trata da nomenclatura da variável, a mesma é chamada de Identificador.\n",
    "\n",
    "variavel_a = float(input('Digite um número: '))\n",
    "print(variavel_a)\n",
    "variavel_b = float(input('Digite mais um número: '))\n",
    "print(variavel_b)\n",
    "\n",
    "calculo = variavel_a + variavel_b\n",
    "\n",
    "print(f'Resultado: {calculo}')"
   ]
  },
  {
   "cell_type": "markdown",
   "id": "27a64523-5a0a-4ebe-95c9-cf5879a9029e",
   "metadata": {
    "jp-MarkdownHeadingCollapsed": true
   },
   "source": [
    "# Comentários"
   ]
  },
  {
   "cell_type": "code",
   "execution_count": 100,
   "id": "8fcb9353-5e88-461c-964e-0441e04055f0",
   "metadata": {},
   "outputs": [
    {
     "name": "stdout",
     "output_type": "stream",
     "text": [
      "Está vazio!\n",
      "Fim da aplicação\n"
     ]
    }
   ],
   "source": [
    "# Variáveis\n",
    "eu = None\n",
    "nós = None\n",
    "\n",
    "# Olha um if\n",
    "\n",
    "if eu is None and nós is None:\n",
    "    print('Está vazio!')\n",
    "else:\n",
    "    print('Está com conteúdo!') \n",
    "\n",
    "\"\"\"\n",
    "Inclusive tem esses comentários aqui!\n",
    "a ideia do if anterior é checar se as\n",
    "variáveis eu e nós possuem algum conteúdo\n",
    "dentro delas.\n",
    "\"\"\"\n",
    "\n",
    "# Falando nisso, é melhor ter bons nomes nas variáveis do que comentar todo o projeto.\n",
    "# A culpa não é do cara que não entendeu que a variável \"rbminefort22\" é uma variavel \n",
    "# que guarda a string: 'RobloxMinecraftFortnite2022', a culpa é do bobão que escreveu essa aberração e achou\n",
    "# que alguem além dele iria entender.\n",
    "\n",
    "'''\n",
    "TRABALHANDO?\n",
    "PRIORIZE BONS IDENTIFICADORES\n",
    "E NÃO\n",
    "COMENTÁRIOS!\n",
    "ESTUDANDO?\n",
    "COMENTE CASO NECESSÁRIO!\n",
    "'''\n",
    "\n",
    "# print('Fim')\n",
    "print('Fim da aplicação') #só pra ter certeza, esse é o fim!"
   ]
  },
  {
   "cell_type": "markdown",
   "id": "78c7a6cc-bcc2-4014-bdee-71e8f7213e7e",
   "metadata": {
    "jp-MarkdownHeadingCollapsed": true
   },
   "source": [
    "# Operadores"
   ]
  },
  {
   "cell_type": "code",
   "execution_count": 21,
   "id": "34cfb17c-f27d-467b-939f-14b6303bade3",
   "metadata": {},
   "outputs": [
    {
     "name": "stdout",
     "output_type": "stream",
     "text": [
      "5\n",
      "-3\n",
      "10.6\n",
      "3.1333333333333333\n",
      "3.0\n",
      "256\n",
      "1\n",
      "Decréssimo em 1!\n",
      "46\n"
     ]
    }
   ],
   "source": [
    "\"\"\"\n",
    "CLASSIFICAÇÃO DE OPERADORES:\n",
    "Um operando: Operadores Unários(+, -, ~, not)\n",
    "Dois operandos: Operadores Binários(+, -, *, /, //, %, **)\n",
    "Quando retornam True or False: Comparação/Relacionários(==, !=, >, <, >=, <=)\n",
    "Usados para combinar condições booleanas: Lógicos(and, or, not)\n",
    "Operam diretamente nos bits dos números inteiros: 2.4 Bit a Bit (Bitwise)(&, `)\n",
    "Operam sobre três operandos (único caso em Python): Operadores Ternários(valor if condição else outro_valor)\n",
    "Cada bit de dois números é comparado: Operador XOR(^) - Se forem iguais → resultado é 0, Se forem diferentes → resultado é 1\n",
    "\"\"\"\n",
    "\n",
    "print(2 + 3)\n",
    "print(4 - 7)\n",
    "print(2 * 5.3) # O resultado tipo float\n",
    "print(9.4 / 3)\n",
    "print(9.4 // 3) # O resultado vai dar ser convertido para int\n",
    "print(2 ** 8) # Elevado à potência\n",
    "print(10 % 3) # Módulo(resultado da divisão)\n",
    "\n",
    "a = 23\n",
    "b = a\n",
    "calculo = a + b\n",
    "\n",
    "if calculo >= 20:\n",
    "    --a \n",
    "    print('Decréssimo em 1!')\n",
    "    print(calculo)\n",
    "else:\n",
    "    ++b\n",
    "    print('Acréssimo em 1!') \n",
    "    print(calculo)\n"
   ]
  },
  {
   "cell_type": "markdown",
   "id": "1184cf2e-9724-402a-92d5-15b30cd4541a",
   "metadata": {
    "jp-MarkdownHeadingCollapsed": true
   },
   "source": [
    "# DESAFIO 1"
   ]
  },
  {
   "cell_type": "code",
   "execution_count": 1,
   "id": "b9b1fb82-f6f0-435e-a66f-3289dbb3136a",
   "metadata": {},
   "outputs": [
    {
     "name": "stdin",
     "output_type": "stream",
     "text": [
      "Qual o seu salário? \n",
      " 2600\n"
     ]
    },
    {
     "name": "stdout",
     "output_type": "stream",
     "text": [
      "Seu salário é de: 2600.0\n",
      "\n"
     ]
    },
    {
     "name": "stdin",
     "output_type": "stream",
     "text": [
      "Qual seu gasto mensal com despesas como aluguel, luz, água, comida, etc.? \n",
      " 1600\n"
     ]
    },
    {
     "name": "stdout",
     "output_type": "stream",
     "text": [
      "Suas despesas são de: 1600.0\n",
      "\n",
      "percentual de gasto: 61.54%\n"
     ]
    }
   ],
   "source": [
    "# PROGRAMA QUE CALCULA O PERCENTUAL DE COMPROMETIMENTO NO SEU SALÁRIO CORRESPONDENTEMENTE COM SUAS DESPESAS.\n",
    "\n",
    "salario = (float(input('Qual o seu salário? \\n')))\n",
    "print(f'Seu salário é de: {salario}\\n')\n",
    "despesas = (float(input('Qual seu gasto mensal com despesas como aluguel, luz, água, comida, etc.? \\n')))\n",
    "print(f'Suas despesas são de: {despesas}\\n')\n",
    "\n",
    "percentual_despesas = (despesas / salario) * 100\n",
    "print(f'percentual de gasto: {percentual_despesas:.2f}%') # O \":.2f\" faz com que o resultado apareça apenas com 2 casas decimais"
   ]
  },
  {
   "cell_type": "markdown",
   "id": "f92a7c3e-5327-4325-b6c0-9a9ed973585b",
   "metadata": {
    "jp-MarkdownHeadingCollapsed": true
   },
   "source": [
    "# Operadores de atribuição"
   ]
  },
  {
   "cell_type": "code",
   "execution_count": 16,
   "id": "ae144054-87ac-42db-a43d-6cfe84fd2418",
   "metadata": {},
   "outputs": [
    {
     "name": "stdout",
     "output_type": "stream",
     "text": [
      "10\n",
      "15\n",
      "47\n",
      "94\n",
      "23.5\n",
      "1.5\n",
      "25.62890625\n",
      "0.0\n"
     ]
    }
   ],
   "source": [
    "a = 3\n",
    "a = a + 7\n",
    "print(a)\n",
    "\n",
    "a += 5 # Acrescentando valor\n",
    "print(a)\n",
    "\n",
    "b = 50\n",
    "b -= 3\n",
    "print(b)\n",
    "\n",
    "b *= 2\n",
    "print(b)\n",
    "b /= 4\n",
    "print(b)\n",
    "b %= 2\n",
    "print(b)\n",
    "b **= 8 # Exponenciação\n",
    "print(b)\n",
    "b //= 256\n",
    "print(b)"
   ]
  },
  {
   "cell_type": "code",
   "execution_count": null,
   "id": "b508a430-828e-418b-aca9-25e5438a02b4",
   "metadata": {},
   "outputs": [],
   "source": [
    "# Os Trabalhos\n",
    "trabalho_terca = False\n",
    "trabalho_quinta = False\n",
    "\n",
    "# Pegando entrada do usuário e convertendo para inteiro\n",
    "terca_temp = int(input('Você trabalhou terça? Digite 1 para sim e 0 para não: ')) \n",
    "quinta_temp = int(input('Você trabalhou quinta? Digite 1 para sim e 0 para não: ')) \n",
    "\n",
    "# Atualizando as variáveis com base na entrada\n",
    "trabalho_terca = terca_temp == 1\n",
    "trabalho_quinta = quinta_temp == 1\n",
    "\n",
    "# Lógica para determinar a recompensa\n",
    "if trabalho_terca and trabalho_quinta:\n",
    "    print('Boa! Você pode comprar uma TV de 50 polegadas e um Sorvete!')\n",
    "elif trabalho_terca or trabalho_quinta:\n",
    "    print('Boa! Você pode comprar uma TV de 32 polegadas e um Sorvete!')\n",
    "else:\n",
    "    print('Se ferrou meu mano!')"
   ]
  },
  {
   "cell_type": "markdown",
   "id": "33d96431-cb75-49a9-9729-61aaca0871c4",
   "metadata": {
    "jp-MarkdownHeadingCollapsed": true
   },
   "source": [
    "# Mais operadores"
   ]
  },
  {
   "cell_type": "code",
   "execution_count": 26,
   "id": "08472d89-d256-449d-a168-0ad3b6c43d02",
   "metadata": {},
   "outputs": [
    {
     "data": {
      "text/plain": [
       "True"
      ]
     },
     "execution_count": 26,
     "metadata": {},
     "output_type": "execute_result"
    }
   ],
   "source": [
    "# Operador de Membro\n",
    "lista = [1, 2, 3, 'Ana', 'Carla']\n",
    "2 in lista\n",
    "\n",
    "'Ana' not in lista\n",
    "\n",
    "# Operador de Identidade\n",
    "x = 3\n",
    "y = x\n",
    "z = 3\n",
    "x is y\n",
    "y is z\n",
    "x is not z\n",
    "z is not x\n",
    "\n",
    "lista_a = [1, 2, 3] \n",
    "lista_b = lista_a \n",
    "lista_c = [1, 2, 3] \n",
    "\n",
    "lista_a is lista_b\n",
    "lista_b is lista_c\n",
    "lista_a is not lista_c"
   ]
  },
  {
   "cell_type": "markdown",
   "id": "25f5873b-6d56-44e7-a9d6-24aa03325db7",
   "metadata": {},
   "source": [
    "# Builtins"
   ]
  },
  {
   "cell_type": "code",
   "execution_count": 16,
   "id": "2bee287f-8457-4241-8a1f-64ae975427c0",
   "metadata": {},
   "outputs": [
    {
     "name": "stdout",
     "output_type": "stream",
     "text": [
      "3.3333333333333335\n",
      "Help on built-in function dir in module builtins:\n",
      "\n",
      "dir(...)\n",
      "    Show attributes of an object.\n",
      "\n",
      "    If called without an argument, return the names in the current scope.\n",
      "    Else, return an alphabetized list of names comprising (some of) the attributes\n",
      "    of the given object, and of attributes reachable from it.\n",
      "    If the object supplies a method named __dir__, it will be used; otherwise\n",
      "    the default dir() logic is used and returns:\n",
      "      for a module object: the module's attributes.\n",
      "      for a class object:  its attributes, and recursively the attributes\n",
      "        of its bases.\n",
      "      for any other object: its attributes, its class's attributes, and\n",
      "        recursively the attributes of its class's base classes.\n",
      "\n"
     ]
    },
    {
     "data": {
      "text/plain": [
       "['In',\n",
       " 'Out',\n",
       " '_',\n",
       " '_1',\n",
       " '_11',\n",
       " '_12',\n",
       " '_13',\n",
       " '_15',\n",
       " '_2',\n",
       " '_3',\n",
       " '_5',\n",
       " '_7',\n",
       " '_9',\n",
       " '__',\n",
       " '___',\n",
       " '__builtin__',\n",
       " '__builtins__',\n",
       " '__doc__',\n",
       " '__loader__',\n",
       " '__name__',\n",
       " '__package__',\n",
       " '__pandas',\n",
       " '__session__',\n",
       " '__spec__',\n",
       " '_dh',\n",
       " '_i',\n",
       " '_i1',\n",
       " '_i10',\n",
       " '_i11',\n",
       " '_i12',\n",
       " '_i13',\n",
       " '_i14',\n",
       " '_i15',\n",
       " '_i16',\n",
       " '_i2',\n",
       " '_i3',\n",
       " '_i4',\n",
       " '_i5',\n",
       " '_i6',\n",
       " '_i7',\n",
       " '_i8',\n",
       " '_i9',\n",
       " '_ih',\n",
       " '_ii',\n",
       " '_iii',\n",
       " '_oh',\n",
       " 'dataframe_columns',\n",
       " 'dataframe_hash',\n",
       " 'dtypes_str',\n",
       " 'exit',\n",
       " 'get_dataframes',\n",
       " 'get_ipython',\n",
       " 'getpass',\n",
       " 'hashlib',\n",
       " 'import_pandas_safely',\n",
       " 'is_data_frame',\n",
       " 'json',\n",
       " 'open',\n",
       " 'quit']"
      ]
     },
     "execution_count": 16,
     "metadata": {},
     "output_type": "execute_result"
    }
   ],
   "source": [
    "# type()\n",
    "type(1)\n",
    "__builtins__.type('Fala Galera!')\n",
    "__builtins__.print(10/3)\n",
    "\n",
    "__builtins__.help(__builtins__.dir)\n",
    "dir()"
   ]
  }
 ],
 "metadata": {
  "kernelspec": {
   "display_name": "Python [conda env:base] *",
   "language": "python",
   "name": "conda-base-py"
  },
  "language_info": {
   "codemirror_mode": {
    "name": "ipython",
    "version": 3
   },
   "file_extension": ".py",
   "mimetype": "text/x-python",
   "name": "python",
   "nbconvert_exporter": "python",
   "pygments_lexer": "ipython3",
   "version": "3.12.7"
  }
 },
 "nbformat": 4,
 "nbformat_minor": 5
}
