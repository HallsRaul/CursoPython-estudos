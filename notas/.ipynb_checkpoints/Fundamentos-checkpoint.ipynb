{
 "cells": [
  {
   "cell_type": "markdown",
   "id": "4795926b-acdd-4399-aaf8-edcc6016fb1a",
   "metadata": {
    "jp-MarkdownHeadingCollapsed": true
   },
   "source": [
    "# Primeiros Passos\n"
   ]
  },
  {
   "cell_type": "code",
   "execution_count": 17,
   "id": "01c32041-5873-4ad2-a98d-251c207765e9",
   "metadata": {},
   "outputs": [
    {
     "name": "stdout",
     "output_type": "stream",
     "text": [
      "Primeiro programa :)\n"
     ]
    },
    {
     "name": "stdin",
     "output_type": "stream",
     "text": [
      "Digite um número:  2222\n"
     ]
    },
    {
     "name": "stdout",
     "output_type": "stream",
     "text": [
      "resultado: 2223\n"
     ]
    }
   ],
   "source": [
    "print('Primeiro programa :)') \n",
    "num = 1 \n",
    "temp = int(input('Digite um número: ')) \n",
    "\n",
    "calculo = num + temp \n",
    "\n",
    "print(f'resultado: {calculo}') "
   ]
  },
  {
   "cell_type": "markdown",
   "id": "fc263c51-d796-4a24-8a5a-30184dca43b3",
   "metadata": {
    "jp-MarkdownHeadingCollapsed": true
   },
   "source": [
    "# Tipos Básicos"
   ]
  },
  {
   "cell_type": "code",
   "execution_count": 35,
   "id": "b242a3eb-da4c-4631-9995-1b09a3d6dc28",
   "metadata": {},
   "outputs": [
    {
     "name": "stdout",
     "output_type": "stream",
     "text": [
      "True\n",
      "False\n",
      "2.2\n",
      "Aqui eu falo qualquer coisa!\n",
      "Assim também dá\n",
      "Você é muito muito muito legal!\n",
      "[1, 2, 3]\n",
      "{'nome': 'Pedro', 'idade': 22}\n",
      "None\n"
     ]
    }
   ],
   "source": [
    "print(True) # Sempre com a inicial maiúscula\n",
    "print(False)\n",
    "print(1.2 + 1) # 1.2 = valor real(float) / 1 = valor inteiro(int)\n",
    "print('Aqui eu falo qualquer coisa!') # String\n",
    "print(\"Assim também dá\")\n",
    "print('Você é ' + 3 * 'muito ' + 'legal!') # Concatenação entre strings\n",
    "# print(3 + '3') -> Aqui se da o erro por conta da diferença entre os tipos de valores, sendo um deles um int e o outro uma string\n",
    "print([1, 2, 3]) # Basicamente um array/lista\n",
    "print({'nome': 'Pedro', 'idade': 22}) # Enquanto na lista você tem uma estrutura indexada, com índice, no dicionário você tem uma chave e um valor\n",
    "print(None) #null/nada"
   ]
  },
  {
   "cell_type": "markdown",
   "id": "bba94f77-cbe0-48c5-8665-bcbfb995c27f",
   "metadata": {
    "jp-MarkdownHeadingCollapsed": true
   },
   "source": [
    "# Variáveis"
   ]
  },
  {
   "cell_type": "code",
   "execution_count": 60,
   "id": "a347087d-3ebc-42c2-bd2a-123cc8e8f148",
   "metadata": {},
   "outputs": [
    {
     "name": "stdin",
     "output_type": "stream",
     "text": [
      "Digite um número:  22\n"
     ]
    },
    {
     "name": "stdout",
     "output_type": "stream",
     "text": [
      "22.0\n"
     ]
    },
    {
     "name": "stdin",
     "output_type": "stream",
     "text": [
      "Digite mais um número:  55.56\n"
     ]
    },
    {
     "name": "stdout",
     "output_type": "stream",
     "text": [
      "55.56\n",
      "Resultado: 77.56\n"
     ]
    }
   ],
   "source": [
    "# Linguagem tipada significa que cada variável tem um tipo de dado (como inteiro, string, etc.),\n",
    "# e esse tipo pode ser definido explicitamente ou implicitamente, dependendo da linguagem. Neste caso Python é \n",
    "# extremamente tipada. De tipagem dinâmica, ou seja, não permite misturar tipos diferentes sem conversão explícita.\n",
    "# Dito isso, as vezes, ao definir certas variáveis, você pode sofrer conflitos na linguagem em relação a operações,\n",
    "# por exemplo ao misturar uma variavel int com uma float. Neste caso seria necessário verificar as variaveis e fazer\n",
    "# modificações para melhor funcionabilidade com o restante do projeto.\n",
    "# Aliás, quando se trata da nomenclatura da variável, a mesma é chamada de Identificador.\n",
    "\n",
    "variavel_a = float(input('Digite um número: '))\n",
    "print(variavel_a)\n",
    "variavel_b = float(input('Digite mais um número: '))\n",
    "print(variavel_b)\n",
    "\n",
    "calculo = variavel_a + variavel_b\n",
    "\n",
    "print(f'Resultado: {calculo}')"
   ]
  },
  {
   "cell_type": "markdown",
   "id": "27a64523-5a0a-4ebe-95c9-cf5879a9029e",
   "metadata": {
    "jp-MarkdownHeadingCollapsed": true
   },
   "source": [
    "# Comentários"
   ]
  },
  {
   "cell_type": "code",
   "execution_count": 100,
   "id": "8fcb9353-5e88-461c-964e-0441e04055f0",
   "metadata": {},
   "outputs": [
    {
     "name": "stdout",
     "output_type": "stream",
     "text": [
      "Está vazio!\n",
      "Fim da aplicação\n"
     ]
    }
   ],
   "source": [
    "# Variáveis\n",
    "eu = None\n",
    "nós = None\n",
    "\n",
    "# Olha um if\n",
    "\n",
    "if eu is None and nós is None:\n",
    "    print('Está vazio!')\n",
    "else:\n",
    "    print('Está com conteúdo!') \n",
    "\n",
    "\"\"\"\n",
    "Inclusive tem esses comentários aqui!\n",
    "a ideia do if anterior é checar se as\n",
    "variáveis eu e nós possuem algum conteúdo\n",
    "dentro delas.\n",
    "\"\"\"\n",
    "\n",
    "# Falando nisso, é melhor ter bons nomes nas variáveis do que comentar todo o projeto.\n",
    "# A culpa não é do cara que não entendeu que a variável \"rbminefort22\" é uma variavel \n",
    "# que guarda a string: 'RobloxMinecraftFortnite2022', a culpa é do bobão que escreveu essa aberração e achou\n",
    "# que alguem além dele iria entender.\n",
    "\n",
    "'''\n",
    "TRABALHANDO?\n",
    "PRIORIZE BONS IDENTIFICADORES\n",
    "E NÃO\n",
    "COMENTÁRIOS!\n",
    "ESTUDANDO?\n",
    "COMENTE CASO NECESSÁRIO!\n",
    "'''\n",
    "\n",
    "# print('Fim')\n",
    "print('Fim da aplicação') #só pra ter certeza, esse é o fim!"
   ]
  },
  {
   "cell_type": "markdown",
   "id": "78c7a6cc-bcc2-4014-bdee-71e8f7213e7e",
   "metadata": {},
   "source": [
    "# Operadores Aritméticos"
   ]
  },
  {
   "cell_type": "code",
   "execution_count": 157,
   "id": "34cfb17c-f27d-467b-939f-14b6303bade3",
   "metadata": {},
   "outputs": [
    {
     "name": "stdout",
     "output_type": "stream",
     "text": [
      "5\n",
      "-3\n",
      "10.6\n",
      "3.1333333333333333\n",
      "3.0\n",
      "256\n",
      "1\n",
      "Decréssimo em 1!\n",
      "46\n"
     ]
    }
   ],
   "source": [
    "\"\"\"\n",
    "CLASSIFICAÇÃO DE OPERADORES:\n",
    "Um operando: Operadores Unários(+, -, ~, not)\n",
    "Dois operandos: Operadores Binários(+, -, *, /, //, %, **)\n",
    "Quando retornam True or False: Comparação(==, !=, >, <, >=, <=)\n",
    "Usados para combinar condições booleanas: Lógicos(and, or, not)\n",
    "Operam diretamente nos bits dos números inteiros: 2.4 Bit a Bit (Bitwise)(&, `)\n",
    "Operam sobre três operandos (único caso em Python): Operadores Ternários(valor if condição else outro_valor)\n",
    "\"\"\"\n",
    "\n",
    "print(2 + 3)\n",
    "print(4 - 7)\n",
    "print(2 * 5.3) # O resultado tipo float\n",
    "print(9.4 / 3)\n",
    "print(9.4 // 3) # O resultado vai dar ser convertido para int\n",
    "print(2 ** 8) # Elevado à potência\n",
    "print(10 % 3) # Módulo(resultado da divisão)\n",
    "\n",
    "a = 23\n",
    "b = a\n",
    "calculo = a + b\n",
    "\n",
    "if calculo >= 20:\n",
    "    --a \n",
    "    print('Decréssimo em 1!')\n",
    "    print(calculo)\n",
    "else:\n",
    "    ++b\n",
    "    print('Acréssimo em 1!') \n",
    "    print(calculo)\n"
   ]
  }
 ],
 "metadata": {
  "kernelspec": {
   "display_name": "Python [conda env:base] *",
   "language": "python",
   "name": "conda-base-py"
  },
  "language_info": {
   "codemirror_mode": {
    "name": "ipython",
    "version": 3
   },
   "file_extension": ".py",
   "mimetype": "text/x-python",
   "name": "python",
   "nbconvert_exporter": "python",
   "pygments_lexer": "ipython3",
   "version": "3.12.7"
  }
 },
 "nbformat": 4,
 "nbformat_minor": 5
}
