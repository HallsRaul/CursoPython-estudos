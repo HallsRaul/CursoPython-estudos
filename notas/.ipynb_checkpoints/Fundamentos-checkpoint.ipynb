{
 "cells": [
  {
   "cell_type": "markdown",
   "id": "4795926b-acdd-4399-aaf8-edcc6016fb1a",
   "metadata": {},
   "source": [
    "# Primeiros Passos\n"
   ]
  },
  {
   "cell_type": "code",
   "execution_count": 17,
   "id": "01c32041-5873-4ad2-a98d-251c207765e9",
   "metadata": {},
   "outputs": [
    {
     "name": "stdout",
     "output_type": "stream",
     "text": [
      "Primeiro programa :)\n"
     ]
    },
    {
     "name": "stdin",
     "output_type": "stream",
     "text": [
      "Digite um número:  2222\n"
     ]
    },
    {
     "name": "stdout",
     "output_type": "stream",
     "text": [
      "resultado: 2223\n"
     ]
    }
   ],
   "source": [
    "print('Primeiro programa :)') \n",
    "num = 1 \n",
    "temp = int(input('Digite um número: ')) \n",
    "\n",
    "calculo = num + temp \n",
    "\n",
    "print(f'resultado: {calculo}') "
   ]
  },
  {
   "cell_type": "markdown",
   "id": "fc263c51-d796-4a24-8a5a-30184dca43b3",
   "metadata": {
    "jp-MarkdownHeadingCollapsed": true
   },
   "source": [
    "# Tipos Básicos"
   ]
  },
  {
   "cell_type": "code",
   "execution_count": 35,
   "id": "b242a3eb-da4c-4631-9995-1b09a3d6dc28",
   "metadata": {},
   "outputs": [
    {
     "name": "stdout",
     "output_type": "stream",
     "text": [
      "True\n",
      "False\n",
      "2.2\n",
      "Aqui eu falo qualquer coisa!\n",
      "Assim também dá\n",
      "Você é muito muito muito legal!\n",
      "[1, 2, 3]\n",
      "{'nome': 'Pedro', 'idade': 22}\n",
      "None\n"
     ]
    }
   ],
   "source": [
    "print(True) # Sempre com a inicial maiúscula\n",
    "print(False)\n",
    "print(1.2 + 1) # 1.2 = valor real(float) / 1 = valor inteiro(int)\n",
    "print('Aqui eu falo qualquer coisa!') # String\n",
    "print(\"Assim também dá\")\n",
    "print('Você é ' + 3 * 'muito ' + 'legal!') # Concatenação entre strings\n",
    "# print(3 + '3') -> Aqui se da o erro por conta da diferença entre os tipos de valores, sendo um deles um int e o outro uma string\n",
    "print([1, 2, 3]) # Basicamente um array/lista\n",
    "print({'nome': 'Pedro', 'idade': 22}) # Enquanto na lista você tem uma estrutura indexada, com índice, no dicionário você tem uma chave e um valor\n",
    "print(None) #null/nada"
   ]
  },
  {
   "cell_type": "markdown",
   "id": "bba94f77-cbe0-48c5-8665-bcbfb995c27f",
   "metadata": {},
   "source": [
    "# Variáveis"
   ]
  },
  {
   "cell_type": "code",
   "execution_count": 58,
   "id": "a347087d-3ebc-42c2-bd2a-123cc8e8f148",
   "metadata": {},
   "outputs": [
    {
     "name": "stdin",
     "output_type": "stream",
     "text": [
      "Digite um número:  12.5\n"
     ]
    },
    {
     "name": "stdout",
     "output_type": "stream",
     "text": [
      "12.5\n"
     ]
    },
    {
     "name": "stdin",
     "output_type": "stream",
     "text": [
      "Digite mais um número:  2\n"
     ]
    },
    {
     "name": "stdout",
     "output_type": "stream",
     "text": [
      "2.0\n",
      "Resultado: 14.5\n"
     ]
    }
   ],
   "source": [
    "# Linguagem tipada significa que cada variável tem um tipo de dado (como inteiro, string, etc.),\n",
    "# e esse tipo pode ser definido explicitamente ou implicitamente, dependendo da linguagem. Neste caso Python é \n",
    "# extremamente tipada. De tipagem dinâmica, ou seja, não permite misturar tipos diferentes sem conversão explícita.\n",
    "# Dito isso, as vezes, ao definir certas variáveis, você pode sofrer conflitos na linguagem em relação a operações,\n",
    "# por exemplo ao misturar uma variavel int com uma float. Neste caso seria necessário verificar as variaveis e fazer\n",
    "# modificações para melhor funcionabilidade com o restante do projeto.\n",
    "# Aliás, quando se trata da nomenclatura da variável, a mesma é chamada de Identificador.\n",
    "\n",
    "variavel_a = float(input('Digite um número: '))\n",
    "print(variavel_a)\n",
    "variavel_b = float(input('Digite mais um número: '))\n",
    "print(variavel_b)\n",
    "\n",
    "calculo = variavel_a + variavel_b\n",
    "\n",
    "print(f'Resultado: {calculo}')"
   ]
  }
 ],
 "metadata": {
  "kernelspec": {
   "display_name": "Python [conda env:base] *",
   "language": "python",
   "name": "conda-base-py"
  },
  "language_info": {
   "codemirror_mode": {
    "name": "ipython",
    "version": 3
   },
   "file_extension": ".py",
   "mimetype": "text/x-python",
   "name": "python",
   "nbconvert_exporter": "python",
   "pygments_lexer": "ipython3",
   "version": "3.12.7"
  }
 },
 "nbformat": 4,
 "nbformat_minor": 5
}
